{
  "nbformat": 4,
  "nbformat_minor": 0,
  "metadata": {
    "colab": {
      "provenance": [],
      "authorship_tag": "ABX9TyO/arxblsRwvMK5vUDEPvdX",
      "include_colab_link": true
    },
    "kernelspec": {
      "name": "python3",
      "display_name": "Python 3"
    },
    "language_info": {
      "name": "python"
    }
  },
  "cells": [
    {
      "cell_type": "markdown",
      "metadata": {
        "id": "view-in-github",
        "colab_type": "text"
      },
      "source": [
        "<a href=\"https://colab.research.google.com/github/Imhimanish/Trapizoidal-method-Integration-/blob/main/GithubCodes1.ipynb\" target=\"_parent\"><img src=\"https://colab.research.google.com/assets/colab-badge.svg\" alt=\"Open In Colab\"/></a>"
      ]
    },
    {
      "cell_type": "markdown",
      "source": [
        "Trapizoidal Method "
      ],
      "metadata": {
        "id": "jhH9ICSVYu0I"
      }
    },
    {
      "cell_type": "code",
      "source": [
        "import numpy as np\n",
        "def trap(xi,xf,n):\n",
        "\n",
        "  yy=[]\n",
        "  h=(xf-xi)/(n-1)\n",
        "\n",
        "  for i in range(n):\n",
        "    x=xi+(i*h)\n",
        "    y=np.sin(x)\n",
        "    yy.append(y)\n",
        "  s=0\n",
        "  for i in range(1,n-1):\n",
        "    s= s+ yy[i]\n",
        "  s=2*s\n",
        "  s=s+yy[0]+yy[n-1]\n",
        "\n",
        "  return (h/2)*s\n",
        "xi=-(np.pi)\n",
        "xf=np.pi\n",
        "n=10\n",
        "for i in range(2,n+1):\n",
        "  print(\"Taking \",i,\"Points the value is-\",trap(xi,xf,i))\n"
      ],
      "metadata": {
        "colab": {
          "base_uri": "https://localhost:8080/"
        },
        "id": "JHPVvjre6P_P",
        "outputId": "41c71889-930d-4c58-ab04-7c905d2046e2"
      },
      "execution_count": null,
      "outputs": [
        {
          "output_type": "stream",
          "name": "stdout",
          "text": [
            "Taking  2 Points the value is- 0.0\n",
            "Taking  3 Points the value is- 0.0\n",
            "Taking  4 Points the value is- -4.650491330678175e-16\n",
            "Taking  5 Points the value is- 0.0\n",
            "Taking  6 Points the value is- 0.0\n",
            "Taking  7 Points the value is- 2.3252456653390877e-16\n",
            "Taking  8 Points the value is- 9.965338565738948e-17\n",
            "Taking  9 Points the value is- 8.71967124502158e-17\n",
            "Taking  10 Points the value is- -1.5501637768927252e-16\n"
          ]
        }
      ]
    }
  ]
}